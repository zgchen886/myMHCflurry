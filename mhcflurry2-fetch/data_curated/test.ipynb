{
 "cells": [
  {
   "cell_type": "code",
   "execution_count": 1,
   "metadata": {},
   "outputs": [],
   "source": [
    "import polars as pl"
   ]
  },
  {
   "cell_type": "code",
   "execution_count": 2,
   "metadata": {},
   "outputs": [],
   "source": [
    "# convert 'tr_data' into a Lazyframe by calling the .lazy() method\n",
    "tr_data=pl.read_csv('./curated_training_data.csv').lazy()\n"
   ]
  },
  {
   "cell_type": "code",
   "execution_count": 3,
   "metadata": {},
   "outputs": [],
   "source": [
    "\n",
    "# initialize the SQL context and register the lazyframe\n",
    "sql = pl.SQLContext()\n",
    "sql.register(\"tr_data\", tr_data)"
   ]
  },
  {
   "cell_type": "code",
   "execution_count": 4,
   "metadata": {},
   "outputs": [
    {
     "data": {
      "text/plain": [
       "['allele',\n",
       " 'peptide',\n",
       " 'measurement_value',\n",
       " 'measurement_inequality',\n",
       " 'measurement_type',\n",
       " 'measurement_kind',\n",
       " 'measurement_source',\n",
       " 'original_allele']"
      ]
     },
     "execution_count": 4,
     "metadata": {},
     "output_type": "execute_result"
    }
   ],
   "source": [
    "tr_data.columns"
   ]
  },
  {
   "cell_type": "code",
   "execution_count": 5,
   "metadata": {},
   "outputs": [],
   "source": [
    "q_out = sql.query(\n",
    "    \"\"\"\n",
    "    select *\n",
    "    from tr_data\n",
    "    where measurement_inequality = '<'\n",
    "    \"\"\"\n",
    ")"
   ]
  },
  {
   "cell_type": "code",
   "execution_count": 6,
   "metadata": {},
   "outputs": [
    {
     "data": {
      "text/html": [
       "<div><style>\n",
       ".dataframe > thead > tr > th,\n",
       ".dataframe > tbody > tr > td {\n",
       "  text-align: right;\n",
       "}\n",
       "</style>\n",
       "<small>shape: (5, 8)</small><table border=\"1\" class=\"dataframe\"><thead><tr><th>allele</th><th>peptide</th><th>measurement_value</th><th>measurement_inequality</th><th>measurement_type</th><th>measurement_kind</th><th>measurement_source</th><th>original_allele</th></tr><tr><td>str</td><td>str</td><td>f64</td><td>str</td><td>str</td><td>str</td><td>str</td><td>str</td></tr></thead><tbody><tr><td>&quot;BoLA-2*12:01&quot;</td><td>&quot;AAHGMGKVGK&quot;</td><td>500.0</td><td>&quot;&lt;&quot;</td><td>&quot;qualitative&quot;</td><td>&quot;affinity&quot;</td><td>&quot;Morrison - cel…</td><td>&quot;BoLA-2*01201&quot;</td></tr><tr><td>&quot;BoLA-2*12:01&quot;</td><td>&quot;ASHGMGKVGK&quot;</td><td>500.0</td><td>&quot;&lt;&quot;</td><td>&quot;qualitative&quot;</td><td>&quot;affinity&quot;</td><td>&quot;Morrison - cel…</td><td>&quot;BoLA-2*01201&quot;</td></tr><tr><td>&quot;BoLA-2*12:01&quot;</td><td>&quot;ASSHGMGKVGK&quot;</td><td>500.0</td><td>&quot;&lt;&quot;</td><td>&quot;qualitative&quot;</td><td>&quot;affinity&quot;</td><td>&quot;Morrison - cel…</td><td>&quot;BoLA-2*01201&quot;</td></tr><tr><td>&quot;BoLA-2*12:01&quot;</td><td>&quot;KAAHGMGKVGK&quot;</td><td>500.0</td><td>&quot;&lt;&quot;</td><td>&quot;qualitative&quot;</td><td>&quot;affinity&quot;</td><td>&quot;Morrison - cel…</td><td>&quot;BoLA-2*01201&quot;</td></tr><tr><td>&quot;BoLA-2*12:01&quot;</td><td>&quot;KAHGMGKVGK&quot;</td><td>500.0</td><td>&quot;&lt;&quot;</td><td>&quot;qualitative&quot;</td><td>&quot;affinity&quot;</td><td>&quot;Morrison - cel…</td><td>&quot;BoLA-2*01201&quot;</td></tr></tbody></table></div>"
      ],
      "text/plain": [
       "shape: (5, 8)\n",
       "┌──────────┬─────────┬────────────┬────────────┬────────────┬────────────┬────────────┬────────────┐\n",
       "│ allele   ┆ peptide ┆ measuremen ┆ measuremen ┆ measuremen ┆ measuremen ┆ measuremen ┆ original_a │\n",
       "│ ---      ┆ ---     ┆ t_value    ┆ t_inequali ┆ t_type     ┆ t_kind     ┆ t_source   ┆ llele      │\n",
       "│ str      ┆ str     ┆ ---        ┆ ty         ┆ ---        ┆ ---        ┆ ---        ┆ ---        │\n",
       "│          ┆         ┆ f64        ┆ ---        ┆ str        ┆ str        ┆ str        ┆ str        │\n",
       "│          ┆         ┆            ┆ str        ┆            ┆            ┆            ┆            │\n",
       "╞══════════╪═════════╪════════════╪════════════╪════════════╪════════════╪════════════╪════════════╡\n",
       "│ BoLA-2*1 ┆ AAHGMGK ┆ 500.0      ┆ <          ┆ qualitativ ┆ affinity   ┆ Morrison - ┆ BoLA-2*012 │\n",
       "│ 2:01     ┆ VGK     ┆            ┆            ┆ e          ┆            ┆ cellular   ┆ 01         │\n",
       "│          ┆         ┆            ┆            ┆            ┆            ┆ MHC/T cell ┆            │\n",
       "│          ┆         ┆            ┆            ┆            ┆            ┆ i…         ┆            │\n",
       "│ BoLA-2*1 ┆ ASHGMGK ┆ 500.0      ┆ <          ┆ qualitativ ┆ affinity   ┆ Morrison - ┆ BoLA-2*012 │\n",
       "│ 2:01     ┆ VGK     ┆            ┆            ┆ e          ┆            ┆ cellular   ┆ 01         │\n",
       "│          ┆         ┆            ┆            ┆            ┆            ┆ MHC/T cell ┆            │\n",
       "│          ┆         ┆            ┆            ┆            ┆            ┆ i…         ┆            │\n",
       "│ BoLA-2*1 ┆ ASSHGMG ┆ 500.0      ┆ <          ┆ qualitativ ┆ affinity   ┆ Morrison - ┆ BoLA-2*012 │\n",
       "│ 2:01     ┆ KVGK    ┆            ┆            ┆ e          ┆            ┆ cellular   ┆ 01         │\n",
       "│          ┆         ┆            ┆            ┆            ┆            ┆ MHC/T cell ┆            │\n",
       "│          ┆         ┆            ┆            ┆            ┆            ┆ i…         ┆            │\n",
       "│ BoLA-2*1 ┆ KAAHGMG ┆ 500.0      ┆ <          ┆ qualitativ ┆ affinity   ┆ Morrison - ┆ BoLA-2*012 │\n",
       "│ 2:01     ┆ KVGK    ┆            ┆            ┆ e          ┆            ┆ cellular   ┆ 01         │\n",
       "│          ┆         ┆            ┆            ┆            ┆            ┆ MHC/T cell ┆            │\n",
       "│          ┆         ┆            ┆            ┆            ┆            ┆ i…         ┆            │\n",
       "│ BoLA-2*1 ┆ KAHGMGK ┆ 500.0      ┆ <          ┆ qualitativ ┆ affinity   ┆ Morrison - ┆ BoLA-2*012 │\n",
       "│ 2:01     ┆ VGK     ┆            ┆            ┆ e          ┆            ┆ cellular   ┆ 01         │\n",
       "│          ┆         ┆            ┆            ┆            ┆            ┆ MHC/T cell ┆            │\n",
       "│          ┆         ┆            ┆            ┆            ┆            ┆ i…         ┆            │\n",
       "└──────────┴─────────┴────────────┴────────────┴────────────┴────────────┴────────────┴────────────┘"
      ]
     },
     "execution_count": 6,
     "metadata": {},
     "output_type": "execute_result"
    }
   ],
   "source": [
    "q_out.head()"
   ]
  }
 ],
 "metadata": {
  "kernelspec": {
   "display_name": "Python 3",
   "language": "python",
   "name": "python3"
  },
  "language_info": {
   "codemirror_mode": {
    "name": "ipython",
    "version": 3
   },
   "file_extension": ".py",
   "mimetype": "text/x-python",
   "name": "python",
   "nbconvert_exporter": "python",
   "pygments_lexer": "ipython3",
   "version": "3.9.15"
  },
  "orig_nbformat": 4
 },
 "nbformat": 4,
 "nbformat_minor": 2
}
