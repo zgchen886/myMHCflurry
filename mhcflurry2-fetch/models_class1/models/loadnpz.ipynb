{
 "cells": [
  {
   "cell_type": "code",
   "execution_count": 1,
   "metadata": {},
   "outputs": [],
   "source": [
    "import numpy as np"
   ]
  },
  {
   "cell_type": "code",
   "execution_count": 2,
   "metadata": {},
   "outputs": [],
   "source": [
    "myData = np.load('weights_BOLA-61301-0-c02105eada32a795.npz')"
   ]
  },
  {
   "cell_type": "code",
   "execution_count": 4,
   "metadata": {},
   "outputs": [
    {
     "name": "stdout",
     "output_type": "stream",
     "text": [
      "['array_0', 'array_1', 'array_2', 'array_3', 'array_4', 'array_5', 'array_6', 'array_7']\n"
     ]
    }
   ],
   "source": [
    "print(myData.files)"
   ]
  },
  {
   "cell_type": "code",
   "execution_count": 22,
   "metadata": {},
   "outputs": [
    {
     "name": "stdout",
     "output_type": "stream",
     "text": [
      "(7, 8)\n",
      "[[-0.00575867  0.00374905  0.00980018 -0.00511677  0.01124665  0.00614843\n",
      "  -0.00681659  0.00349926]\n",
      " [ 0.00538044  0.00779201 -0.0039969  -0.00855178  0.01135741 -0.00969373\n",
      "   0.01203294  0.02307699]\n",
      " [ 0.00716554  0.00211886  0.00388747  0.00417946  0.00790972  0.00837681\n",
      "  -0.03768733  0.01890907]\n",
      " [-0.01286955 -0.00445432 -0.0080996   0.00903942 -0.0223424  -0.04887207\n",
      "   0.00513921 -0.01713415]\n",
      " [-0.00767341 -0.00956382  0.00977802 -0.01080021  0.00079529  0.00723804\n",
      "   0.00633524  0.00497481]\n",
      " [-0.03313649  0.00210749  0.00299727 -0.00948324 -0.00044694  0.00281282\n",
      "   0.00887644  0.00742763]\n",
      " [ 0.00858493  0.00441283  0.01005694  0.0194779   0.00047545 -0.01276301\n",
      "  -0.00859455 -0.00240913]]\n"
     ]
    }
   ],
   "source": [
    "print(myData['array_3'].shape)\n",
    "print(myData['array_3'])"
   ]
  }
 ],
 "metadata": {
  "kernelspec": {
   "display_name": "Python 3",
   "language": "python",
   "name": "python3"
  },
  "language_info": {
   "codemirror_mode": {
    "name": "ipython",
    "version": 3
   },
   "file_extension": ".py",
   "mimetype": "text/x-python",
   "name": "python",
   "nbconvert_exporter": "python",
   "pygments_lexer": "ipython3",
   "version": "3.9.15"
  },
  "orig_nbformat": 4
 },
 "nbformat": 4,
 "nbformat_minor": 2
}
