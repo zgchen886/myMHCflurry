{
 "cells": [
  {
   "cell_type": "code",
   "execution_count": 1,
   "metadata": {},
   "outputs": [],
   "source": [
    "from mhcflurry import Class1PresentationPredictor"
   ]
  },
  {
   "cell_type": "code",
   "execution_count": 2,
   "metadata": {},
   "outputs": [
    {
     "name": "stdout",
     "output_type": "stream",
     "text": [
      "Forcing tensorflow backend.\n"
     ]
    },
    {
     "name": "stderr",
     "output_type": "stream",
     "text": [
      "WARNING:tensorflow:From c:\\Users\\Administrator\\miniconda3\\envs\\bioinfo\\lib\\site-packages\\tensorflow\\python\\compat\\v2_compat.py:107: disable_resource_variables (from tensorflow.python.ops.variable_scope) is deprecated and will be removed in a future version.\n",
      "Instructions for updating:\n",
      "non-resource variables are not supported in the long term\n",
      "WARNING:tensorflow:From c:\\Users\\Administrator\\miniconda3\\envs\\bioinfo\\lib\\site-packages\\mhcflurry\\common.py:131: The name tf.keras.backend.set_session is deprecated. Please use tf.compat.v1.keras.backend.set_session instead.\n",
      "\n",
      "WARNING:tensorflow:From c:\\Users\\Administrator\\miniconda3\\envs\\bioinfo\\lib\\site-packages\\keras\\initializers\\initializers_v1.py:297: calling RandomUniform.__init__ (from tensorflow.python.ops.init_ops) with dtype is deprecated and will be removed in a future version.\n",
      "Instructions for updating:\n",
      "Call initializer instance with the dtype argument instead of passing it to the constructor\n"
     ]
    }
   ],
   "source": [
    "predictor = Class1PresentationPredictor.load()"
   ]
  },
  {
   "cell_type": "code",
   "execution_count": 3,
   "metadata": {},
   "outputs": [
    {
     "data": {
      "text/plain": [
       "['Atbe-B*01:01',\n",
       " 'Atbe-E*03:01',\n",
       " 'Atbe-G*03:01',\n",
       " 'Atbe-G*03:02',\n",
       " 'Atbe-G*06:01']"
      ]
     },
     "execution_count": 3,
     "metadata": {},
     "output_type": "execute_result"
    }
   ],
   "source": [
    "predictor.supported_alleles[:5]"
   ]
  },
  {
   "cell_type": "code",
   "execution_count": 4,
   "metadata": {},
   "outputs": [
    {
     "name": "stderr",
     "output_type": "stream",
     "text": [
      "c:\\Users\\Administrator\\miniconda3\\envs\\bioinfo\\lib\\site-packages\\mhcflurry\\flanking_encoding.py:173: FutureWarning: The default dtype for empty Series will be 'object' instead of 'float64' in a future version. Specify a dtype explicitly to silence this warning.\n",
      "  n_flanks = pandas.Series([\"\"] * len(df))\n",
      "c:\\Users\\Administrator\\miniconda3\\envs\\bioinfo\\lib\\site-packages\\keras\\engine\\training_v1.py:2356: UserWarning: `Model.state_updates` will be removed in a future version. This property should not be used in TensorFlow 2.0, as `updates` are applied automatically.\n",
      "  updates=self.state_updates,\n",
      "c:\\Users\\Administrator\\miniconda3\\envs\\bioinfo\\lib\\site-packages\\mhcflurry\\flanking_encoding.py:173: FutureWarning: The default dtype for empty Series will be 'object' instead of 'float64' in a future version. Specify a dtype explicitly to silence this warning.\n",
      "  n_flanks = pandas.Series([\"\"] * len(df))\n",
      "c:\\Users\\Administrator\\miniconda3\\envs\\bioinfo\\lib\\site-packages\\keras\\engine\\training_v1.py:2356: UserWarning: `Model.state_updates` will be removed in a future version. This property should not be used in TensorFlow 2.0, as `updates` are applied automatically.\n",
      "  updates=self.state_updates,\n",
      "c:\\Users\\Administrator\\miniconda3\\envs\\bioinfo\\lib\\site-packages\\mhcflurry\\flanking_encoding.py:173: FutureWarning: The default dtype for empty Series will be 'object' instead of 'float64' in a future version. Specify a dtype explicitly to silence this warning.\n",
      "  n_flanks = pandas.Series([\"\"] * len(df))\n",
      "c:\\Users\\Administrator\\miniconda3\\envs\\bioinfo\\lib\\site-packages\\keras\\engine\\training_v1.py:2356: UserWarning: `Model.state_updates` will be removed in a future version. This property should not be used in TensorFlow 2.0, as `updates` are applied automatically.\n",
      "  updates=self.state_updates,\n",
      "c:\\Users\\Administrator\\miniconda3\\envs\\bioinfo\\lib\\site-packages\\mhcflurry\\flanking_encoding.py:173: FutureWarning: The default dtype for empty Series will be 'object' instead of 'float64' in a future version. Specify a dtype explicitly to silence this warning.\n",
      "  n_flanks = pandas.Series([\"\"] * len(df))\n",
      "c:\\Users\\Administrator\\miniconda3\\envs\\bioinfo\\lib\\site-packages\\keras\\engine\\training_v1.py:2356: UserWarning: `Model.state_updates` will be removed in a future version. This property should not be used in TensorFlow 2.0, as `updates` are applied automatically.\n",
      "  updates=self.state_updates,\n",
      "c:\\Users\\Administrator\\miniconda3\\envs\\bioinfo\\lib\\site-packages\\mhcflurry\\flanking_encoding.py:173: FutureWarning: The default dtype for empty Series will be 'object' instead of 'float64' in a future version. Specify a dtype explicitly to silence this warning.\n",
      "  n_flanks = pandas.Series([\"\"] * len(df))\n",
      "c:\\Users\\Administrator\\miniconda3\\envs\\bioinfo\\lib\\site-packages\\keras\\engine\\training_v1.py:2356: UserWarning: `Model.state_updates` will be removed in a future version. This property should not be used in TensorFlow 2.0, as `updates` are applied automatically.\n",
      "  updates=self.state_updates,\n",
      "c:\\Users\\Administrator\\miniconda3\\envs\\bioinfo\\lib\\site-packages\\mhcflurry\\flanking_encoding.py:173: FutureWarning: The default dtype for empty Series will be 'object' instead of 'float64' in a future version. Specify a dtype explicitly to silence this warning.\n",
      "  n_flanks = pandas.Series([\"\"] * len(df))\n",
      "c:\\Users\\Administrator\\miniconda3\\envs\\bioinfo\\lib\\site-packages\\keras\\engine\\training_v1.py:2356: UserWarning: `Model.state_updates` will be removed in a future version. This property should not be used in TensorFlow 2.0, as `updates` are applied automatically.\n",
      "  updates=self.state_updates,\n",
      "c:\\Users\\Administrator\\miniconda3\\envs\\bioinfo\\lib\\site-packages\\mhcflurry\\flanking_encoding.py:173: FutureWarning: The default dtype for empty Series will be 'object' instead of 'float64' in a future version. Specify a dtype explicitly to silence this warning.\n",
      "  n_flanks = pandas.Series([\"\"] * len(df))\n",
      "c:\\Users\\Administrator\\miniconda3\\envs\\bioinfo\\lib\\site-packages\\keras\\engine\\training_v1.py:2356: UserWarning: `Model.state_updates` will be removed in a future version. This property should not be used in TensorFlow 2.0, as `updates` are applied automatically.\n",
      "  updates=self.state_updates,\n",
      "c:\\Users\\Administrator\\miniconda3\\envs\\bioinfo\\lib\\site-packages\\mhcflurry\\flanking_encoding.py:173: FutureWarning: The default dtype for empty Series will be 'object' instead of 'float64' in a future version. Specify a dtype explicitly to silence this warning.\n",
      "  n_flanks = pandas.Series([\"\"] * len(df))\n",
      "c:\\Users\\Administrator\\miniconda3\\envs\\bioinfo\\lib\\site-packages\\keras\\engine\\training_v1.py:2356: UserWarning: `Model.state_updates` will be removed in a future version. This property should not be used in TensorFlow 2.0, as `updates` are applied automatically.\n",
      "  updates=self.state_updates,\n",
      "WARNING:tensorflow:From c:\\Users\\Administrator\\miniconda3\\envs\\bioinfo\\lib\\site-packages\\tensorflow\\python\\ops\\init_ops.py:93: calling VarianceScaling.__init__ (from tensorflow.python.ops.init_ops) with dtype is deprecated and will be removed in a future version.\n",
      "Instructions for updating:\n",
      "Call initializer instance with the dtype argument instead of passing it to the constructor\n",
      "WARNING:tensorflow:From c:\\Users\\Administrator\\miniconda3\\envs\\bioinfo\\lib\\site-packages\\tensorflow\\python\\ops\\init_ops.py:93: calling Zeros.__init__ (from tensorflow.python.ops.init_ops) with dtype is deprecated and will be removed in a future version.\n",
      "Instructions for updating:\n",
      "Call initializer instance with the dtype argument instead of passing it to the constructor\n",
      "c:\\Users\\Administrator\\miniconda3\\envs\\bioinfo\\lib\\site-packages\\keras\\engine\\training_v1.py:2356: UserWarning: `Model.state_updates` will be removed in a future version. This property should not be used in TensorFlow 2.0, as `updates` are applied automatically.\n",
      "  updates=self.state_updates,\n"
     ]
    },
    {
     "data": {
      "text/html": [
       "<div>\n",
       "<style scoped>\n",
       "    .dataframe tbody tr th:only-of-type {\n",
       "        vertical-align: middle;\n",
       "    }\n",
       "\n",
       "    .dataframe tbody tr th {\n",
       "        vertical-align: top;\n",
       "    }\n",
       "\n",
       "    .dataframe thead th {\n",
       "        text-align: right;\n",
       "    }\n",
       "</style>\n",
       "<table border=\"1\" class=\"dataframe\">\n",
       "  <thead>\n",
       "    <tr style=\"text-align: right;\">\n",
       "      <th></th>\n",
       "      <th>peptide</th>\n",
       "      <th>peptide_num</th>\n",
       "      <th>sample_name</th>\n",
       "      <th>affinity</th>\n",
       "      <th>best_allele</th>\n",
       "      <th>processing_score</th>\n",
       "      <th>presentation_score</th>\n",
       "      <th>presentation_percentile</th>\n",
       "    </tr>\n",
       "  </thead>\n",
       "  <tbody>\n",
       "    <tr>\n",
       "      <th>0</th>\n",
       "      <td>SIINFEKL</td>\n",
       "      <td>0</td>\n",
       "      <td>sample1</td>\n",
       "      <td>11927.158942</td>\n",
       "      <td>HLA-A0201</td>\n",
       "      <td>0.264710</td>\n",
       "      <td>0.020690</td>\n",
       "      <td>11.630326</td>\n",
       "    </tr>\n",
       "    <tr>\n",
       "      <th>1</th>\n",
       "      <td>NLVPMVATV</td>\n",
       "      <td>1</td>\n",
       "      <td>sample1</td>\n",
       "      <td>16.570973</td>\n",
       "      <td>HLA-A0201</td>\n",
       "      <td>0.533008</td>\n",
       "      <td>0.970187</td>\n",
       "      <td>0.018723</td>\n",
       "    </tr>\n",
       "  </tbody>\n",
       "</table>\n",
       "</div>"
      ],
      "text/plain": [
       "     peptide  peptide_num sample_name      affinity best_allele  \\\n",
       "0   SIINFEKL            0     sample1  11927.158942   HLA-A0201   \n",
       "1  NLVPMVATV            1     sample1     16.570973   HLA-A0201   \n",
       "\n",
       "   processing_score  presentation_score  presentation_percentile  \n",
       "0          0.264710            0.020690                11.630326  \n",
       "1          0.533008            0.970187                 0.018723  "
      ]
     },
     "execution_count": 4,
     "metadata": {},
     "output_type": "execute_result"
    }
   ],
   "source": [
    "predictor.predict(\n",
    "    peptides=[\"SIINFEKL\", \"NLVPMVATV\"],\n",
    "    alleles=[\"HLA-A0201\", \"HLA-A0301\"],\n",
    "    verbose=0)"
   ]
  }
 ],
 "metadata": {
  "kernelspec": {
   "display_name": "Python 3",
   "language": "python",
   "name": "python3"
  },
  "language_info": {
   "codemirror_mode": {
    "name": "ipython",
    "version": 3
   },
   "file_extension": ".py",
   "mimetype": "text/x-python",
   "name": "python",
   "nbconvert_exporter": "python",
   "pygments_lexer": "ipython3",
   "version": "3.9.15"
  },
  "orig_nbformat": 4,
  "vscode": {
   "interpreter": {
    "hash": "cf862cda7e3d274e7d7410d52a17ba18c737e5cf0b0acfd3c9d00e157a2dfabc"
   }
  }
 },
 "nbformat": 4,
 "nbformat_minor": 2
}
